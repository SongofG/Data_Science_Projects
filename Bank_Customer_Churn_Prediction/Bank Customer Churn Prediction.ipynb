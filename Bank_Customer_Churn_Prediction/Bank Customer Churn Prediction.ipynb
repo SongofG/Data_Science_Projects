{
 "cells": [
  {
   "cell_type": "markdown",
   "id": "644d5ed7-4092-4d8b-bf27-f27417aff60a",
   "metadata": {},
   "source": [
    "# Bank Customer Churn Prediction"
   ]
  },
  {
   "cell_type": "code",
   "execution_count": null,
   "id": "f2e1cdb4-4081-4b66-b0f8-c5063fd0f7f2",
   "metadata": {},
   "outputs": [],
   "source": [
    "# Import the pacakges\n",
    "import pandas as pd\n",
    "import numpy as np\n",
    "import "
   ]
  }
 ],
 "metadata": {
  "kernelspec": {
   "display_name": "Python 3 (ipykernel)",
   "language": "python",
   "name": "python3"
  },
  "language_info": {
   "codemirror_mode": {
    "name": "ipython",
    "version": 3
   },
   "file_extension": ".py",
   "mimetype": "text/x-python",
   "name": "python",
   "nbconvert_exporter": "python",
   "pygments_lexer": "ipython3",
   "version": "3.10.11"
  }
 },
 "nbformat": 4,
 "nbformat_minor": 5
}
